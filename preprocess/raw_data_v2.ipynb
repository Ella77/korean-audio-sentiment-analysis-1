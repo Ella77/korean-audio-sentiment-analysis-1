{
 "cells": [
  {
   "cell_type": "code",
   "execution_count": 2,
   "metadata": {},
   "outputs": [],
   "source": [
    "import json\n",
    "import io\n",
    "import numpy as np\n",
    "import os\n",
    "import librosa\n",
    "import pandas as pd\n",
    "import pickle\n",
    "import cv2\n",
    "import pprint\n",
    "import pandas as pd\n",
    "# matplotlib for displaying the output\n",
    "import matplotlib.pyplot as plt\n",
    "import argparse\n",
    "import librosa\n",
    "import librosa.display"
   ]
  },
  {
   "cell_type": "code",
   "execution_count": 3,
   "metadata": {},
   "outputs": [],
   "source": [
    "def read(file_path):\n",
    "    with io.open(file_path, encoding='utf-8') as f:\n",
    "        #io.open(f, encoding='utf-8-sig')\n",
    "        #raw_data = yaml.safe_load(f)\n",
    "        raw_data = json.load(f, encoding ='utf-8')\n",
    "        #raw_data = json.load(f, object_hook=_decode_dict)\n",
    "    return raw_data\n"
   ]
  },
  {
   "cell_type": "code",
   "execution_count": 4,
   "metadata": {},
   "outputs": [],
   "source": [
    "data = read('../sample/KETI_MULTIMODAL_0000000012_interpolation.json')"
   ]
  },
  {
   "cell_type": "code",
   "execution_count": 5,
   "metadata": {},
   "outputs": [],
   "source": [
    "json_data = data\n",
    "mp4_path = '../sample/KETI_MULTIMODAL_0000000012.mp4'"
   ]
  },
  {
   "cell_type": "code",
   "execution_count": 50,
   "metadata": {},
   "outputs": [],
   "source": [
    "# def parser(raw_data, mp4_path, parse_save_path): #parsing\n",
    "\n",
    "cap = cv2.VideoCapture(mp4_path)\n",
    "length = int(cap.get(cv2.CAP_PROP_FRAME_COUNT))\n",
    "fps = cap.get(cv2.CAP_PROP_FPS) \n",
    "duration = length/fps\n",
    "\n",
    "dialogue_df = pd.DataFrame()\n",
    "idx = 0\n",
    "for i in json_data['dialogue_infos']:\n",
    "    dialogue = {'speaker_id':i['speaker_id'], 'start_time':i['start_time'], 'end_time':i['end_time'], 'duration':duration}\n",
    "    data = pd.DataFrame(dialogue, index=[idx])\n",
    "    dialogue_df = dialogue_df.append(data)\n",
    "    idx += 1\n",
    "\n"
   ]
  },
  {
   "cell_type": "code",
   "execution_count": 51,
   "metadata": {},
   "outputs": [
    {
     "data": {
      "text/html": [
       "<div>\n",
       "<style scoped>\n",
       "    .dataframe tbody tr th:only-of-type {\n",
       "        vertical-align: middle;\n",
       "    }\n",
       "\n",
       "    .dataframe tbody tr th {\n",
       "        vertical-align: top;\n",
       "    }\n",
       "\n",
       "    .dataframe thead th {\n",
       "        text-align: right;\n",
       "    }\n",
       "</style>\n",
       "<table border=\"1\" class=\"dataframe\">\n",
       "  <thead>\n",
       "    <tr style=\"text-align: right;\">\n",
       "      <th></th>\n",
       "      <th>speaker_id</th>\n",
       "      <th>start_time</th>\n",
       "      <th>end_time</th>\n",
       "      <th>duration</th>\n",
       "    </tr>\n",
       "  </thead>\n",
       "  <tbody>\n",
       "    <tr>\n",
       "      <th>0</th>\n",
       "      <td>박두식</td>\n",
       "      <td>00:00:14.950</td>\n",
       "      <td>00:00:15.791</td>\n",
       "      <td>16.4164</td>\n",
       "    </tr>\n",
       "    <tr>\n",
       "      <th>1</th>\n",
       "      <td>라미란</td>\n",
       "      <td>00:00:00.036</td>\n",
       "      <td>00:00:02.448</td>\n",
       "      <td>16.4164</td>\n",
       "    </tr>\n",
       "    <tr>\n",
       "      <th>2</th>\n",
       "      <td>박선호</td>\n",
       "      <td>00:00:02.954</td>\n",
       "      <td>00:00:05.398</td>\n",
       "      <td>16.4164</td>\n",
       "    </tr>\n",
       "    <tr>\n",
       "      <th>3</th>\n",
       "      <td>박두식</td>\n",
       "      <td>00:00:05.744</td>\n",
       "      <td>00:00:12.780</td>\n",
       "      <td>16.4164</td>\n",
       "    </tr>\n",
       "    <tr>\n",
       "      <th>4</th>\n",
       "      <td>이영애</td>\n",
       "      <td>00:00:13.199</td>\n",
       "      <td>00:00:14.775</td>\n",
       "      <td>16.4164</td>\n",
       "    </tr>\n",
       "  </tbody>\n",
       "</table>\n",
       "</div>"
      ],
      "text/plain": [
       "  speaker_id    start_time      end_time  duration\n",
       "0        박두식  00:00:14.950  00:00:15.791   16.4164\n",
       "1        라미란  00:00:00.036  00:00:02.448   16.4164\n",
       "2        박선호  00:00:02.954  00:00:05.398   16.4164\n",
       "3        박두식  00:00:05.744  00:00:12.780   16.4164\n",
       "4        이영애  00:00:13.199  00:00:14.775   16.4164"
      ]
     },
     "execution_count": 51,
     "metadata": {},
     "output_type": "execute_result"
    }
   ],
   "source": [
    "dialogue_df"
   ]
  },
  {
   "cell_type": "code",
   "execution_count": 52,
   "metadata": {},
   "outputs": [],
   "source": [
    "df = pd.DataFrame()\n",
    "idx = 0\n",
    "for i in json_data['shot_infos']:\n",
    "    if len(i['visual_infos'][0]['persons']) <= 0:\n",
    "        continue\n",
    "\n",
    "    speaker = i['visual_infos'][0]['persons'][0]['person_id']\n",
    "    frames = []\n",
    "    for j in i['visual_infos']:\n",
    "        frames.append(j['frame_id'])\n",
    "        emotion = j['persons'][0]['person_info']['emotion']\n",
    "    emotion.update({'frame_id':j['frame_id'], 'frame_length':length, 'person_id':speaker, 'first_frame':min(frames), 'last_frame':max(frames)})\n",
    "    data = pd.DataFrame(emotion, index=[idx])\n",
    "    df = df.append(data)\n",
    "    idx += 1\n"
   ]
  },
  {
   "cell_type": "code",
   "execution_count": 53,
   "metadata": {},
   "outputs": [
    {
     "data": {
      "text/html": [
       "<div>\n",
       "<style scoped>\n",
       "    .dataframe tbody tr th:only-of-type {\n",
       "        vertical-align: middle;\n",
       "    }\n",
       "\n",
       "    .dataframe tbody tr th {\n",
       "        vertical-align: top;\n",
       "    }\n",
       "\n",
       "    .dataframe thead th {\n",
       "        text-align: right;\n",
       "    }\n",
       "</style>\n",
       "<table border=\"1\" class=\"dataframe\">\n",
       "  <thead>\n",
       "    <tr style=\"text-align: right;\">\n",
       "      <th></th>\n",
       "      <th>happiness</th>\n",
       "      <th>sadness</th>\n",
       "      <th>anger</th>\n",
       "      <th>surprise</th>\n",
       "      <th>afraid</th>\n",
       "      <th>contempt</th>\n",
       "      <th>disgust</th>\n",
       "      <th>neutral</th>\n",
       "      <th>frame_id</th>\n",
       "      <th>frame_length</th>\n",
       "      <th>person_id</th>\n",
       "      <th>first_frame</th>\n",
       "      <th>last_frame</th>\n",
       "    </tr>\n",
       "  </thead>\n",
       "  <tbody>\n",
       "    <tr>\n",
       "      <th>0</th>\n",
       "      <td>10</td>\n",
       "      <td>0</td>\n",
       "      <td>0</td>\n",
       "      <td>0</td>\n",
       "      <td>0</td>\n",
       "      <td>0</td>\n",
       "      <td>0</td>\n",
       "      <td>0</td>\n",
       "      <td>446</td>\n",
       "      <td>492</td>\n",
       "      <td>라미란</td>\n",
       "      <td>401</td>\n",
       "      <td>446</td>\n",
       "    </tr>\n",
       "    <tr>\n",
       "      <th>1</th>\n",
       "      <td>10</td>\n",
       "      <td>0</td>\n",
       "      <td>0</td>\n",
       "      <td>0</td>\n",
       "      <td>0</td>\n",
       "      <td>0</td>\n",
       "      <td>0</td>\n",
       "      <td>0</td>\n",
       "      <td>399</td>\n",
       "      <td>492</td>\n",
       "      <td>박두식</td>\n",
       "      <td>367</td>\n",
       "      <td>399</td>\n",
       "    </tr>\n",
       "    <tr>\n",
       "      <th>2</th>\n",
       "      <td>10</td>\n",
       "      <td>0</td>\n",
       "      <td>0</td>\n",
       "      <td>0</td>\n",
       "      <td>0</td>\n",
       "      <td>0</td>\n",
       "      <td>0</td>\n",
       "      <td>0</td>\n",
       "      <td>365</td>\n",
       "      <td>492</td>\n",
       "      <td>라미란</td>\n",
       "      <td>328</td>\n",
       "      <td>365</td>\n",
       "    </tr>\n",
       "    <tr>\n",
       "      <th>3</th>\n",
       "      <td>10</td>\n",
       "      <td>0</td>\n",
       "      <td>0</td>\n",
       "      <td>0</td>\n",
       "      <td>0</td>\n",
       "      <td>0</td>\n",
       "      <td>0</td>\n",
       "      <td>0</td>\n",
       "      <td>326</td>\n",
       "      <td>492</td>\n",
       "      <td>박선호</td>\n",
       "      <td>265</td>\n",
       "      <td>326</td>\n",
       "    </tr>\n",
       "    <tr>\n",
       "      <th>4</th>\n",
       "      <td>0</td>\n",
       "      <td>0</td>\n",
       "      <td>0</td>\n",
       "      <td>0</td>\n",
       "      <td>0</td>\n",
       "      <td>0</td>\n",
       "      <td>0</td>\n",
       "      <td>10</td>\n",
       "      <td>263</td>\n",
       "      <td>492</td>\n",
       "      <td>박두식</td>\n",
       "      <td>213</td>\n",
       "      <td>263</td>\n",
       "    </tr>\n",
       "    <tr>\n",
       "      <th>5</th>\n",
       "      <td>10</td>\n",
       "      <td>0</td>\n",
       "      <td>0</td>\n",
       "      <td>0</td>\n",
       "      <td>0</td>\n",
       "      <td>0</td>\n",
       "      <td>0</td>\n",
       "      <td>0</td>\n",
       "      <td>211</td>\n",
       "      <td>492</td>\n",
       "      <td>라미란</td>\n",
       "      <td>172</td>\n",
       "      <td>211</td>\n",
       "    </tr>\n",
       "    <tr>\n",
       "      <th>6</th>\n",
       "      <td>10</td>\n",
       "      <td>0</td>\n",
       "      <td>0</td>\n",
       "      <td>0</td>\n",
       "      <td>0</td>\n",
       "      <td>0</td>\n",
       "      <td>0</td>\n",
       "      <td>0</td>\n",
       "      <td>170</td>\n",
       "      <td>492</td>\n",
       "      <td>박선호</td>\n",
       "      <td>92</td>\n",
       "      <td>170</td>\n",
       "    </tr>\n",
       "    <tr>\n",
       "      <th>7</th>\n",
       "      <td>10</td>\n",
       "      <td>0</td>\n",
       "      <td>0</td>\n",
       "      <td>0</td>\n",
       "      <td>0</td>\n",
       "      <td>0</td>\n",
       "      <td>0</td>\n",
       "      <td>0</td>\n",
       "      <td>90</td>\n",
       "      <td>492</td>\n",
       "      <td>라미란</td>\n",
       "      <td>41</td>\n",
       "      <td>90</td>\n",
       "    </tr>\n",
       "    <tr>\n",
       "      <th>8</th>\n",
       "      <td>10</td>\n",
       "      <td>0</td>\n",
       "      <td>0</td>\n",
       "      <td>0</td>\n",
       "      <td>0</td>\n",
       "      <td>0</td>\n",
       "      <td>0</td>\n",
       "      <td>0</td>\n",
       "      <td>39</td>\n",
       "      <td>492</td>\n",
       "      <td>박선호</td>\n",
       "      <td>9</td>\n",
       "      <td>39</td>\n",
       "    </tr>\n",
       "  </tbody>\n",
       "</table>\n",
       "</div>"
      ],
      "text/plain": [
       "   happiness  sadness  anger  surprise  afraid  contempt  disgust  neutral  \\\n",
       "0         10        0      0         0       0         0        0        0   \n",
       "1         10        0      0         0       0         0        0        0   \n",
       "2         10        0      0         0       0         0        0        0   \n",
       "3         10        0      0         0       0         0        0        0   \n",
       "4          0        0      0         0       0         0        0       10   \n",
       "5         10        0      0         0       0         0        0        0   \n",
       "6         10        0      0         0       0         0        0        0   \n",
       "7         10        0      0         0       0         0        0        0   \n",
       "8         10        0      0         0       0         0        0        0   \n",
       "\n",
       "   frame_id  frame_length person_id  first_frame  last_frame  \n",
       "0       446           492       라미란          401         446  \n",
       "1       399           492       박두식          367         399  \n",
       "2       365           492       라미란          328         365  \n",
       "3       326           492       박선호          265         326  \n",
       "4       263           492       박두식          213         263  \n",
       "5       211           492       라미란          172         211  \n",
       "6       170           492       박선호           92         170  \n",
       "7        90           492       라미란           41          90  \n",
       "8        39           492       박선호            9          39  "
      ]
     },
     "execution_count": 53,
     "metadata": {},
     "output_type": "execute_result"
    }
   ],
   "source": [
    "df"
   ]
  },
  {
   "cell_type": "code",
   "execution_count": 54,
   "metadata": {},
   "outputs": [],
   "source": [
    "parse_save_path = 'processed'"
   ]
  },
  {
   "cell_type": "code",
   "execution_count": 55,
   "metadata": {},
   "outputs": [],
   "source": [
    "\n",
    "#pickle 로 저장\n",
    "#log S 와 비교해서 list, array 중에 format 결정할것.\n",
    "npy_save = np.array(df)\n",
    "with open(parse_save_path, 'wb', pickle.HIGHEST_PROTOCOL) as wow:\n",
    "    pickle.dump(df, wow)\n",
    "\n",
    "npy_save_dialogue = np.array(dialogue_df)\n",
    "\n",
    "#return npy_save, npy_save_dialogue\n",
    "\n"
   ]
  },
  {
   "cell_type": "code",
   "execution_count": 56,
   "metadata": {},
   "outputs": [
    {
     "data": {
      "text/plain": [
       "array([[10, 0, 0, 0, 0, 0, 0, 0, 446, 492, '라미란', 401, 446],\n",
       "       [10, 0, 0, 0, 0, 0, 0, 0, 399, 492, '박두식', 367, 399],\n",
       "       [10, 0, 0, 0, 0, 0, 0, 0, 365, 492, '라미란', 328, 365],\n",
       "       [10, 0, 0, 0, 0, 0, 0, 0, 326, 492, '박선호', 265, 326],\n",
       "       [0, 0, 0, 0, 0, 0, 0, 10, 263, 492, '박두식', 213, 263],\n",
       "       [10, 0, 0, 0, 0, 0, 0, 0, 211, 492, '라미란', 172, 211],\n",
       "       [10, 0, 0, 0, 0, 0, 0, 0, 170, 492, '박선호', 92, 170],\n",
       "       [10, 0, 0, 0, 0, 0, 0, 0, 90, 492, '라미란', 41, 90],\n",
       "       [10, 0, 0, 0, 0, 0, 0, 0, 39, 492, '박선호', 9, 39]], dtype=object)"
      ]
     },
     "execution_count": 56,
     "metadata": {},
     "output_type": "execute_result"
    }
   ],
   "source": [
    "npy_save"
   ]
  },
  {
   "cell_type": "code",
   "execution_count": 57,
   "metadata": {},
   "outputs": [
    {
     "data": {
      "text/plain": [
       "array([['박두식', '00:00:14.950', '00:00:15.791', 16.4164],\n",
       "       ['라미란', '00:00:00.036', '00:00:02.448', 16.4164],\n",
       "       ['박선호', '00:00:02.954', '00:00:05.398', 16.4164],\n",
       "       ['박두식', '00:00:05.744', '00:00:12.780', 16.4164],\n",
       "       ['이영애', '00:00:13.199', '00:00:14.775', 16.4164]], dtype=object)"
      ]
     },
     "execution_count": 57,
     "metadata": {},
     "output_type": "execute_result"
    }
   ],
   "source": [
    "npy_save_dialogue"
   ]
  },
  {
   "cell_type": "code",
   "execution_count": null,
   "metadata": {},
   "outputs": [],
   "source": []
  },
  {
   "cell_type": "code",
   "execution_count": null,
   "metadata": {},
   "outputs": [],
   "source": []
  },
  {
   "cell_type": "code",
   "execution_count": 58,
   "metadata": {},
   "outputs": [],
   "source": [
    "audio_name = mp4_path"
   ]
  },
  {
   "cell_type": "code",
   "execution_count": 59,
   "metadata": {},
   "outputs": [
    {
     "name": "stderr",
     "output_type": "stream",
     "text": [
      "/Users/Mac/anaconda3/envs/mercy/lib/python3.6/site-packages/librosa/core/audio.py:146: UserWarning: PySoundFile failed. Trying audioread instead.\n",
      "  warnings.warn('PySoundFile failed. Trying audioread instead.')\n"
     ]
    },
    {
     "data": {
      "text/plain": [
       "'\\nTODO we will change this (see next line)\\n'"
      ]
     },
     "execution_count": 59,
     "metadata": {},
     "output_type": "execute_result"
    }
   ],
   "source": [
    "#{frame_id:, emotion}\n",
    "#     def split_by_emo(data_path, save_path, npy_save, npy_save_dialogue):\n",
    "        #data path : mp4 등 저장된 위치\n",
    "        #save path : 결과물 저장될 위치\n",
    "        #npy_save parser 로 부터 넘겨받는 데이터\n",
    "        \n",
    "#         file_list = os.listdir(data_path)\n",
    "#         file_list_json = [file for file in file_list if file.endswith(\".json\")]\n",
    "\n",
    "\n",
    "#         real_file_name = file_list_json[:-5]  #327.json -> 327 #NEEDS change based on datasets\n",
    "#         audio_name = real_file_name + '.mp4'\n",
    "y, sr = librosa.load(audio_name)\n",
    "\n",
    "label = []\n",
    "all_arr = []\n",
    "\n",
    "'''\n",
    "TODO we will change this (see next line)\n",
    "'''\n",
    "# emo = npy_save['emotion'] #TODO \n",
    "# all_real_fr_num = npy_save['frame_length'] # 정현님이 주시는 전체 프레임수\n",
    "# frame_info_s = npy_save['first_frame']\n",
    "# frame_info_e = npy_save['last_frame']\n",
    "\n",
    "# fract = len(y)/all_real_fr_num # 프레임수(이미지)에 대한 y 의 비율\n",
    "# fract2 = len(y)/all_real_time_num # 시간에 대한 y 의 비율\n",
    "\n",
    "\n",
    "# all_real_time_num = npy_save_dialogue['duration']\n",
    "# time_info_s = npy_save_dialogue['start_time']\n",
    "# time_info_e = npy_save_dialogue['end_time']\n",
    "\n",
    "\n",
    "\n"
   ]
  },
  {
   "cell_type": "code",
   "execution_count": 60,
   "metadata": {},
   "outputs": [
    {
     "data": {
      "text/plain": [
       "array([0, 0, 0, 0, 7, 0, 0, 0, 0])"
      ]
     },
     "execution_count": 60,
     "metadata": {},
     "output_type": "execute_result"
    }
   ],
   "source": [
    "'''\n",
    "change into this \n",
    "\n",
    "'''\n",
    "emo = np.argmax(npy_save[:,:8],axis=1)\n",
    "emo \n",
    "#각 문장별로 제일 큰 emotion ... 5번째 문장의 경우는 7번째index(neutral) 감정이다. \n",
    "#happiness\tsadness\tanger\tsurprise\tafraid\tcontempt\tdisgust\tneutral "
   ]
  },
  {
   "cell_type": "code",
   "execution_count": 61,
   "metadata": {},
   "outputs": [
    {
     "data": {
      "text/plain": [
       "array([492, 492, 492, 492, 492, 492, 492, 492, 492], dtype=object)"
      ]
     },
     "execution_count": 61,
     "metadata": {},
     "output_type": "execute_result"
    }
   ],
   "source": [
    "all_real_fr_num = npy_save[:,9]\n",
    "all_real_fr_num\n"
   ]
  },
  {
   "cell_type": "code",
   "execution_count": 62,
   "metadata": {},
   "outputs": [
    {
     "data": {
      "text/plain": [
       "(array([401, 367, 328, 265, 213, 172, 92, 41, 9], dtype=object),\n",
       " array([446, 399, 365, 326, 263, 211, 170, 90, 39], dtype=object))"
      ]
     },
     "execution_count": 62,
     "metadata": {},
     "output_type": "execute_result"
    }
   ],
   "source": [
    "frame_info_s = npy_save[:,11]\n",
    "frame_info_e = npy_save[:,12]\n",
    "frame_info_s,frame_info_e\n"
   ]
  },
  {
   "cell_type": "code",
   "execution_count": 63,
   "metadata": {},
   "outputs": [
    {
     "data": {
      "text/plain": [
       "array([16.4164, 16.4164, 16.4164, 16.4164, 16.4164], dtype=object)"
      ]
     },
     "execution_count": 63,
     "metadata": {},
     "output_type": "execute_result"
    }
   ],
   "source": [
    "all_real_time_num = npy_save_dialogue[:,3]\n",
    "all_real_time_num"
   ]
  },
  {
   "cell_type": "code",
   "execution_count": 64,
   "metadata": {},
   "outputs": [
    {
     "data": {
      "text/plain": [
       "(array([735.180894308943, 735.180894308943, 735.180894308943,\n",
       "        735.180894308943, 735.180894308943, 735.180894308943,\n",
       "        735.180894308943, 735.180894308943, 735.180894308943], dtype=object),\n",
       " array([22033.393435832462, 22033.393435832462, 22033.393435832462,\n",
       "        22033.393435832462, 22033.393435832462], dtype=object))"
      ]
     },
     "execution_count": 64,
     "metadata": {},
     "output_type": "execute_result"
    }
   ],
   "source": [
    "fract = len(y)/all_real_fr_num # 프레임수(이미지)에 대한 y 의 비율\n",
    "fract2 = len(y)/all_real_time_num # 시간에 대한 y 의 비율\n",
    "fract,fract2"
   ]
  },
  {
   "cell_type": "code",
   "execution_count": 65,
   "metadata": {},
   "outputs": [
    {
     "data": {
      "text/plain": [
       "array([['박두식', '00:00:14.950', '00:00:15.791', 16.4164],\n",
       "       ['라미란', '00:00:00.036', '00:00:02.448', 16.4164],\n",
       "       ['박선호', '00:00:02.954', '00:00:05.398', 16.4164],\n",
       "       ['박두식', '00:00:05.744', '00:00:12.780', 16.4164],\n",
       "       ['이영애', '00:00:13.199', '00:00:14.775', 16.4164]], dtype=object)"
      ]
     },
     "execution_count": 65,
     "metadata": {},
     "output_type": "execute_result"
    }
   ],
   "source": [
    "npy_save_dialogue"
   ]
  },
  {
   "cell_type": "code",
   "execution_count": 66,
   "metadata": {},
   "outputs": [
    {
     "data": {
      "text/plain": [
       "([14, 0, 2, 5, 13], [15, 2, 5, 12, 14])"
      ]
     },
     "execution_count": 66,
     "metadata": {},
     "output_type": "execute_result"
    }
   ],
   "source": [
    "def str_to_sec(str_list):\n",
    "    temp = []\n",
    "    for str_val in str_list:\n",
    "        if isinstance(str_val, str):\n",
    "            h, m, s = str_val.split(':')\n",
    "            temp.append(int(h) * 3600 + int(m) * 60 + int(float(s)))\n",
    "        else:\n",
    "            print(str_val)\n",
    "            \n",
    "    return temp\n",
    "\n",
    "time_info_s = str_to_sec(npy_save_dialogue[:,1])\n",
    "time_info_e = str_to_sec(npy_save_dialogue[:,2])\n",
    "\n",
    "time_info_s, time_info_e"
   ]
  },
  {
   "cell_type": "code",
   "execution_count": 67,
   "metadata": {},
   "outputs": [
    {
     "data": {
      "text/plain": [
       "'\\nTODO \\nlabel will be just expanded version of emo \\n'"
      ]
     },
     "execution_count": 67,
     "metadata": {},
     "output_type": "execute_result"
    }
   ],
   "source": [
    "\n",
    "'''\n",
    "TODO \n",
    "label will be just expanded version of emo \n",
    "'''\n",
    "# for k in range(0, label.shape[0]):\n",
    "#     now_e = emo[k]   #emotion 라 dic key emotion\n",
    "#     now_ss = frame_info_s[k]*fract\n",
    "#     now_es = frame_info_e[k]*fract\n",
    "#     now_ss_2 = time_info_s[k]*fract2\n",
    "#     now_es_2 = time_info_e[k]*fract2\n",
    "\n",
    "#     if now_ss >= now_ss_2 :\n",
    "#         if now_es <= now_es_2 :\n",
    "\n",
    "#             # 0=anger, 1=disgust&contempt, 2=afraid, 3=happiness, 4=sadness, 5=surprise, 6=neutral\n",
    "\n",
    "#             if (now_e == 'anger'):\n",
    "#                 label.append(0)\n",
    "#                 now_l = 0\n",
    "#             if (now_e == 'disgust'):\n",
    "#                 label.append(1)\n",
    "#                 now_l = 1\n",
    "#             if (now_e == 'contempt'):\n",
    "#                 label.append(1)\n",
    "#                 now_l = 1\n",
    "#             if (now_e == 'afraid'):\n",
    "#                 label.append(2)\n",
    "#                 now_l = 2\n",
    "#             if (now_e == 'happiness'):\n",
    "#                 label.append(3)\n",
    "#                 now_l = 3\n",
    "#             if (now_e == 'sadness'):\n",
    "#                 label.append(4)\n",
    "#                 now_l = 4\n",
    "#             if (now_e == 'surprise'):\n",
    "#                 label.append(5)\n",
    "#                 now_l = 5\n",
    "#             if (now_e == 'neutral'):\n",
    "#                 label.append(6)\n",
    "#                 now_l = 6\n",
    "\n",
    "#             all_arr.append(y[now_ss:now_es])\n",
    "#             S = librosa.feature.melspectrogram(np.asarray(y[now_ss:now_es]), sr=sr, n_mels=128)\n",
    "\n",
    "#             # Convert to log scale (dB). We'll use the peak power (max) as reference.\n",
    "#             # Check the Log S format\n",
    "#             log_S = librosa.power_to_db(S, ref=np.max)\n",
    "\n",
    "#             # 여기서 라벨에 따라서 save path 를 변경\n",
    "#             this_save_path = os.path.join(save_path,now_l,real_file_name+'_'+time_info_s[k]+ '_' + time_info_e[k] + '.png') #save to datasets/0/KETI_MULTIMODAL_0000000012_334_235345\n",
    "\n",
    "#             plt.switch_backend('agg')\n",
    "#             # Make a new figure\n",
    "#             plt.figure(figsize=(12, 4))\n",
    "\n",
    "#             # Display the spectrogram on a mel scale\n",
    "#             # sample rate and hop length parameters are used to render the time axis\n",
    "#             librosa.display.specshow(log_S, sr=sr, x_axis='off', y_axis='off')\n",
    "\n",
    "#             # Put a descriptive title on the plot\n",
    "#             # plt.title('mel power spectrogram')\n",
    "\n",
    "#             # draw a color bar\n",
    "#             # plt.colorbar(format='%+02.0f dB')\n",
    "\n",
    "#             # Make the figure layout compact\n",
    "#             plt.tight_layout()\n",
    "#             plt.savefig(this_save_path)\n",
    "\n",
    "#return log_S, label"
   ]
  },
  {
   "cell_type": "code",
   "execution_count": 68,
   "metadata": {},
   "outputs": [
    {
     "data": {
      "text/plain": [
       "array([[10, 0, 0, 0, 0, 0, 0, 0, 446, 492, '라미란', 401, 446],\n",
       "       [10, 0, 0, 0, 0, 0, 0, 0, 399, 492, '박두식', 367, 399],\n",
       "       [10, 0, 0, 0, 0, 0, 0, 0, 365, 492, '라미란', 328, 365],\n",
       "       [10, 0, 0, 0, 0, 0, 0, 0, 326, 492, '박선호', 265, 326],\n",
       "       [0, 0, 0, 0, 0, 0, 0, 10, 263, 492, '박두식', 213, 263],\n",
       "       [10, 0, 0, 0, 0, 0, 0, 0, 211, 492, '라미란', 172, 211],\n",
       "       [10, 0, 0, 0, 0, 0, 0, 0, 170, 492, '박선호', 92, 170],\n",
       "       [10, 0, 0, 0, 0, 0, 0, 0, 90, 492, '라미란', 41, 90],\n",
       "       [10, 0, 0, 0, 0, 0, 0, 0, 39, 492, '박선호', 9, 39]], dtype=object)"
      ]
     },
     "execution_count": 68,
     "metadata": {},
     "output_type": "execute_result"
    }
   ],
   "source": [
    "npy_save"
   ]
  },
  {
   "cell_type": "code",
   "execution_count": 27,
   "metadata": {},
   "outputs": [],
   "source": [
    "# time_info_s[1],fract2"
   ]
  },
  {
   "cell_type": "code",
   "execution_count": 28,
   "metadata": {},
   "outputs": [],
   "source": [
    "# time_info_s[1]*fract2[0]\n"
   ]
  },
  {
   "cell_type": "code",
   "execution_count": 69,
   "metadata": {},
   "outputs": [
    {
     "name": "stdout",
     "output_type": "stream",
     "text": [
      "15\n"
     ]
    },
    {
     "ename": "ValueError",
     "evalue": "The truth value of an array with more than one element is ambiguous. Use a.any() or a.all()",
     "output_type": "error",
     "traceback": [
      "\u001b[0;31m---------------------------------------------------------------------------\u001b[0m",
      "\u001b[0;31mValueError\u001b[0m                                Traceback (most recent call last)",
      "\u001b[0;32m<ipython-input-69-d767f74a9286>\u001b[0m in \u001b[0;36m<module>\u001b[0;34m\u001b[0m\n\u001b[1;32m     22\u001b[0m \u001b[0;34m\u001b[0m\u001b[0m\n\u001b[1;32m     23\u001b[0m \u001b[0;34m\u001b[0m\u001b[0m\n\u001b[0;32m---> 24\u001b[0;31m     \u001b[0;32mif\u001b[0m \u001b[0mnow_ss\u001b[0m \u001b[0;34m>=\u001b[0m \u001b[0mnow_ss_2\u001b[0m \u001b[0;34m:\u001b[0m\u001b[0;34m\u001b[0m\u001b[0;34m\u001b[0m\u001b[0m\n\u001b[0m\u001b[1;32m     25\u001b[0m         \u001b[0;32mif\u001b[0m \u001b[0mnow_es\u001b[0m \u001b[0;34m<=\u001b[0m \u001b[0mnow_es_2\u001b[0m \u001b[0;34m:\u001b[0m\u001b[0;34m\u001b[0m\u001b[0;34m\u001b[0m\u001b[0m\n\u001b[1;32m     26\u001b[0m \u001b[0;34m\u001b[0m\u001b[0m\n",
      "\u001b[0;31mValueError\u001b[0m: The truth value of an array with more than one element is ambiguous. Use a.any() or a.all()"
     ]
    }
   ],
   "source": [
    "\n",
    "''' \n",
    "TODO (working...) \n",
    "label will be just expanded version of emo \n",
    "'''\n",
    "# for k in range(0, label.shape[0]):\n",
    "\n",
    "for k in range(0, npy_save.shape[0]): #changed\n",
    "    now_e = emo[k]   #emotion 라 dic key emotion\n",
    "    now_ss = frame_info_s[k]*fract\n",
    "    now_es = frame_info_e[k]*fract\n",
    "\n",
    "\n",
    "    '''\n",
    "    error because of time mismatch  TODO\n",
    "    '''\n",
    "    #now_ss_2 = time_info_s[k]*fract2\n",
    "    now_ss_2 = time_info_s[k]*fract2[0]  \n",
    "    #now_es_2 = time_info_e[k]*fract2\n",
    "    print(time_info_e[k])\n",
    "    now_es_2 = time_info_e[k]*fract2[0]\n",
    "\n",
    "\n",
    "\n",
    "    if now_ss >= now_ss_2 :\n",
    "        if now_es <= now_es_2 :\n",
    "\n",
    "            # 0=anger, 1=disgust&contempt, 2=afraid, 3=happiness, 4=sadness, 5=surprise, 6=neutral\n",
    "\n",
    "#             if (now_e == 'anger'):\n",
    "#                 label.append(0)\n",
    "#                 now_l = 0\n",
    "#             if (now_e == 'disgust'):\n",
    "#                 label.append(1)\n",
    "#                 now_l = 1\n",
    "#             if (now_e == 'contempt'):\n",
    "#                 label.append(1)\n",
    "#                 now_l = 1\n",
    "#             if (now_e == 'afraid'):\n",
    "#                 label.append(2)\n",
    "#                 now_l = 2\n",
    "#             if (now_e == 'happiness'):\n",
    "#                 label.append(3)\n",
    "#                 now_l = 3\n",
    "#             if (now_e == 'sadness'):\n",
    "#                 label.append(4)\n",
    "#                 now_l = 4\n",
    "#             if (now_e == 'surprise'):\n",
    "#                 label.append(5)\n",
    "#                 now_l = 5\n",
    "#             if (now_e == 'neutral'):\n",
    "#                 label.append(6)\n",
    "#                 now_l = 6\n",
    "            label.append(now_e) \n",
    "           \n",
    "\n",
    "            all_arr.append(y[now_ss:now_es])\n",
    "            S = librosa.feature.melspectrogram(np.asarray(y[now_ss:now_es]), sr=sr, n_mels=128)\n",
    "\n",
    "            # Convert to log scale (dB). We'll use the peak power (max) as reference.\n",
    "            # Check the Log S format\n",
    "            log_S = librosa.power_to_db(S, ref=np.max)\n",
    "\n",
    "            # 여기서 라벨에 따라서 save path 를 변경\n",
    "            this_save_path = os.path.join(save_path,now_l,real_file_name+'_'+time_info_s[k]+ '_' + time_info_e[k] + '.png') #save to datasets/0/KETI_MULTIMODAL_0000000012_334_235345\n",
    "\n",
    "            plt.switch_backend('agg')\n",
    "            # Make a new figure\n",
    "            plt.figure(figsize=(12, 4))\n",
    "\n",
    "            # Display the spectrogram on a mel scale\n",
    "            # sample rate and hop length parameters are used to render the time axis\n",
    "            librosa.display.specshow(log_S, sr=sr, x_axis='off', y_axis='off')\n",
    "\n",
    "            # Put a descriptive title on the plot\n",
    "            # plt.title('mel power spectrogram')\n",
    "\n",
    "            # draw a color bar\n",
    "            # plt.colorbar(format='%+02.0f dB')\n",
    "\n",
    "            # Make the figure layout compact\n",
    "            plt.tight_layout()\n",
    "            plt.savefig(this_save_path)\n",
    "\n",
    "return log_S, label"
   ]
  },
  {
   "cell_type": "code",
   "execution_count": null,
   "metadata": {},
   "outputs": [],
   "source": []
  },
  {
   "cell_type": "code",
   "execution_count": null,
   "metadata": {},
   "outputs": [],
   "source": []
  },
  {
   "cell_type": "code",
   "execution_count": null,
   "metadata": {},
   "outputs": [],
   "source": []
  }
 ],
 "metadata": {
  "kernelspec": {
   "display_name": "Python 3",
   "language": "python",
   "name": "python3"
  },
  "language_info": {
   "codemirror_mode": {
    "name": "ipython",
    "version": 3
   },
   "file_extension": ".py",
   "mimetype": "text/x-python",
   "name": "python",
   "nbconvert_exporter": "python",
   "pygments_lexer": "ipython3",
   "version": "3.6.9"
  }
 },
 "nbformat": 4,
 "nbformat_minor": 2
}
